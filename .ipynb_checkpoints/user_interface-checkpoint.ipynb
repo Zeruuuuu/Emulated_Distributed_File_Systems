{
 "cells": [
  {
   "cell_type": "code",
   "execution_count": 1,
   "metadata": {},
   "outputs": [],
   "source": [
    "from scripts.ui_input import commands, sql_query"
   ]
  },
  {
   "cell_type": "code",
   "execution_count": 2,
   "metadata": {},
   "outputs": [],
   "source": [
    "structure = {'parent':[], 'child':[]}\n",
    "table = {'filename': [], 'partition_location': []}"
   ]
  },
  {
   "cell_type": "markdown",
   "metadata": {},
   "source": [
    "# Commands"
   ]
  },
  {
   "cell_type": "markdown",
   "metadata": {},
   "source": [
    "### Run the cell below to input any commands:\n",
    "available commands: help, mkdir, ls, cat, rm, put, getPartitionLocations, readPartition"
   ]
  },
  {
   "cell_type": "markdown",
   "metadata": {},
   "source": [
    "#### Sample commands: \n",
    "#### * mkdir /user/john\n",
    "#### * ls /user\n",
    "#### * put reviews.csv /user/john 4\n",
    "#### * cat /user/john/reviews_1.csv\n",
    "#### * rm /user/john/reviews_1.csv\n",
    "#### * getPartitionLocations reviews\n",
    "#### * readPartition reviews 2"
   ]
  },
  {
   "cell_type": "code",
   "execution_count": 3,
   "metadata": {},
   "outputs": [
    {
     "name": "stdout",
     "output_type": "stream",
     "text": [
      "Enter your command:readPartition reviews 4\n",
      ">>> readPartition reviews 4 \n",
      "\n",
      "Partition 4 in reviews :\n",
      "                                             name        platform  \\\n",
      "0                      Need for Speed Undercover        Xbox 360   \n",
      "1                                       Warframe   PlayStation 4   \n",
      "2                   Ghostbusters: The Video Game   PlayStation 2   \n",
      "3                         Phantasy Star Universe        Xbox 360   \n",
      "4                       Armored Core: For Answer        Xbox 360   \n",
      "...                                          ...             ...   \n",
      "4695                    Fast & Furious: Showdown        Xbox 360   \n",
      "4696                     Drake of the 99 Dragons            Xbox   \n",
      "4697  Afro Samurai 2: Revenge of Kuma Volume One   PlayStation 4   \n",
      "4698   Infestation: Survivor Stories (The War Z)              PC   \n",
      "4699         Leisure Suit Larry: Box Office Bust              PC   \n",
      "\n",
      "            release_date                                            summary  \\\n",
      "0      November 17, 2008  Need for Speed Undercover has players racing t...   \n",
      "1      November 12, 2013  They were called Tenno. Warriors of blade and ...   \n",
      "2          June 16, 2009  The Ghostbusters are back in an all new story ...   \n",
      "3       October 25, 2006  Phantasy Star Universe offers two complete RPG...   \n",
      "4     September 16, 2008  In the distant future, massive urban developme...   \n",
      "...                  ...                                                ...   \n",
      "4695        May 21, 2013  Fast & Furious: Showdown takes some of the fra...   \n",
      "4696    November 3, 2003  Drake is out for revenge in a supernatural Hon...   \n",
      "4697  September 22, 2015  Head out on a journey of redemption, driven by...   \n",
      "4698    October 15, 2012  (Formerly known as \"The War Z\") It has been 5 ...   \n",
      "4699      March 31, 2009  The Leisure Suit Larry: Box Office Bust video ...   \n",
      "\n",
      "      meta_score user_review  \n",
      "0             64         6.0  \n",
      "1             64         7.2  \n",
      "2             64         8.4  \n",
      "3             64         7.4  \n",
      "4             64         7.9  \n",
      "...          ...         ...  \n",
      "4695          22         1.3  \n",
      "4696          22         1.7  \n",
      "4697          21         2.9  \n",
      "4698          20         1.7  \n",
      "4699          20         2.0  \n",
      "\n",
      "[4700 rows x 6 columns]\n"
     ]
    }
   ],
   "source": [
    "commands()"
   ]
  },
  {
   "cell_type": "markdown",
   "metadata": {},
   "source": [
    "# Search & Analytics"
   ]
  },
  {
   "cell_type": "markdown",
   "metadata": {},
   "source": [
    "### Columns in sales.csv:\n",
    "Name, Platform, Year_of_Release, Genre, Publisher, NA_Sales, EU_Sales, JP_Sales, Other_Sales, Global_Sales, Critic_Score, Critic_Count, User_Score, User_Count, Developer, Rating\n",
    "### Columns in reviews.csv:\n",
    "name, platform, release_date, summary, meta_score, user_review"
   ]
  },
  {
   "cell_type": "markdown",
   "metadata": {},
   "source": [
    "### Supported aggregate functions for analytics: \n",
    "count(), avg(), min(), max(), sum()"
   ]
  },
  {
   "cell_type": "markdown",
   "metadata": {},
   "source": [
    "#### Search: example: select * from sales reviews where Critic_Score > 6\n",
    "#### Available tables: sales, reviews, you need to use 'put' command ahead to store the data first\n",
    "#### Available functions for Analytics\n",
    "#### count()    example: select count(name) from reviews\n",
    "#### sum()      example: select sum(Critic_Score) from sales\n",
    "#### avg()      example: select avg(Critic_Score) from sales\n",
    "#### min()      example: select min(Critic_Score) from sales\n",
    "#### max()      example: select max(Critic_Score) from sales"
   ]
  },
  {
   "cell_type": "code",
   "execution_count": null,
   "metadata": {},
   "outputs": [],
   "source": [
    "sql_query()"
   ]
  }
 ],
 "metadata": {
  "kernelspec": {
   "display_name": "Python 3 (ipykernel)",
   "language": "python",
   "name": "python3"
  },
  "language_info": {
   "codemirror_mode": {
    "name": "ipython",
    "version": 3
   },
   "file_extension": ".py",
   "mimetype": "text/x-python",
   "name": "python",
   "nbconvert_exporter": "python",
   "pygments_lexer": "ipython3",
   "version": "3.9.12"
  }
 },
 "nbformat": 4,
 "nbformat_minor": 1
}
