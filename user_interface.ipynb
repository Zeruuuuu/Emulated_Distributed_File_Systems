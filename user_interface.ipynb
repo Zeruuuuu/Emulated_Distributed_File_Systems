{
 "cells": [
  {
   "cell_type": "code",
   "execution_count": 1,
   "metadata": {
    "pycharm": {
     "name": "#%%\n"
    }
   },
   "outputs": [],
   "source": [
    "from scripts.ui_input import commands, sql_query"
   ]
  },
  {
   "cell_type": "code",
   "execution_count": 2,
   "metadata": {
    "pycharm": {
     "name": "#%%\n"
    }
   },
   "outputs": [],
   "source": [
    "structure = {'parent':[], 'child':[]}\n",
    "table = {'filename': [], 'partition_location': []}"
   ]
  },
  {
   "cell_type": "markdown",
   "metadata": {
    "pycharm": {
     "name": "#%% md\n"
    }
   },
   "source": [
    "# Commands"
   ]
  },
  {
   "cell_type": "markdown",
   "metadata": {
    "pycharm": {
     "name": "#%% md\n"
    }
   },
   "source": [
    "### Run the cell below to input any commands:\n",
    "available commands: help, mkdir, ls, cat, rm, put, getPartitionLocations, readPartition"
   ]
  },
  {
   "cell_type": "markdown",
   "metadata": {
    "pycharm": {
     "name": "#%% md\n"
    }
   },
   "source": [
    "#### Sample commands: \n",
    "#### * mkdir /user/john\n",
    "#### * ls /user\n",
    "#### * put reviews.csv /user/john 4\n",
    "#### * cat /user/john/reviews_1.csv\n",
    "#### * rm /user/john/reviews_1.csv\n",
    "#### * getPartitionLocations reviews\n",
    "#### * readPartition reviews 2"
   ]
  },
  {
   "cell_type": "code",
   "execution_count": 4,
   "metadata": {
    "pycharm": {
     "name": "#%%\n"
    }
   },
   "outputs": [
    {
     "name": "stdout",
     "output_type": "stream",
     "text": [
      ">>> put sales.csv /user/aaa 4 \n",
      "\n",
      "Partition successful\n",
      "\n",
      "File system structure now:\n",
      "   parent        child\n",
      "0   user          aaa\n",
      "1    aaa  sales_1.csv\n",
      "2    aaa  sales_2.csv\n",
      "3    aaa  sales_3.csv\n",
      "4    aaa  sales_4.csv\n",
      "\n",
      "       partition_location\n",
      "0  /user/aaa/sales_1.csv\n",
      "1  /user/aaa/sales_2.csv\n",
      "2  /user/aaa/sales_3.csv\n",
      "3  /user/aaa/sales_4.csv\n"
     ]
    }
   ],
   "source": [
    "commands()"
   ]
  },
  {
   "cell_type": "markdown",
   "metadata": {
    "pycharm": {
     "name": "#%% md\n"
    }
   },
   "source": [
    "# Search & Analytics"
   ]
  },
  {
   "cell_type": "markdown",
   "metadata": {
    "pycharm": {
     "name": "#%% md\n"
    }
   },
   "source": [
    "### Columns in sales.csv:\n",
    "Name, Platform, Year_of_Release, Genre, Publisher, NA_Sales, EU_Sales, JP_Sales, Other_Sales, Global_Sales, Critic_Score, Critic_Count, User_Score, User_Count, Developer, Rating\n",
    "### Columns in reviews.csv:\n",
    "name, platform, release_date, summary, meta_score, user_review"
   ]
  },
  {
   "cell_type": "markdown",
   "metadata": {
    "pycharm": {
     "name": "#%% md\n"
    }
   },
   "source": [
    "### Supported aggregate functions for analytics: \n",
    "count(), avg(), min(), max(), sum()"
   ]
  },
  {
   "cell_type": "markdown",
   "metadata": {
    "pycharm": {
     "name": "#%% md\n"
    }
   },
   "source": [
    "#### Search: example: select Critic_Score from sales where Critic_Score > 6\n",
    "#### Available tables: sales, reviews, you need to use 'put' command ahead to store the data first\n",
    "#### Available functions for Analytics\n",
    "#### count()    example: select count(name) from reviews\n",
    "#### sum()      example: select sum(Critic_Score) from sales\n",
    "#### avg()      example: select avg(Critic_Score) from sales\n",
    "#### min()      example: select min(Critic_Score) from sales\n",
    "#### max()      example: select max(Critic_Score) from sales"
   ]
  },
  {
   "cell_type": "code",
   "execution_count": 11,
   "metadata": {
    "pycharm": {
     "name": "#%%\n"
    }
   },
   "outputs": [
    {
     "name": "stdout",
     "output_type": "stream",
     "text": [
      "Map result: \n",
      " [   min(critic_score)\n",
      "0               13.0,    min(critic_score)\n",
      "0               20.0,    min(critic_score)\n",
      "0               17.0,    min(critic_score)\n",
      "0               19.0]\n",
      "\n",
      "Final result after Reduce: \n",
      "    min(critic_score)\n",
      "0               13.0\n"
     ]
    }
   ],
   "source": [
    "sql_query()"
   ]
  },
  {
   "cell_type": "code",
   "execution_count": null,
   "outputs": [],
   "source": [],
   "metadata": {
    "collapsed": false,
    "pycharm": {
     "name": "#%%\n"
    }
   }
  }
 ],
 "metadata": {
  "kernelspec": {
   "display_name": "Python 3 (ipykernel)",
   "language": "python",
   "name": "python3"
  },
  "language_info": {
   "codemirror_mode": {
    "name": "ipython",
    "version": 3
   },
   "file_extension": ".py",
   "mimetype": "text/x-python",
   "name": "python",
   "nbconvert_exporter": "python",
   "pygments_lexer": "ipython3",
   "version": "3.9.12"
  }
 },
 "nbformat": 4,
 "nbformat_minor": 1
}